{
 "cells": [
  {
   "cell_type": "markdown",
   "metadata": {},
   "source": [
    "## Load sample data"
   ]
  },
  {
   "cell_type": "code",
   "execution_count": 1,
   "metadata": {},
   "outputs": [],
   "source": [
    "import tensorflow as tf\n",
    "# disable warnings and enhance performance\n",
    "tf.compat.v1.disable_eager_execution()  \n",
    "\n",
    "import json\n",
    "with open('qm9_sample.json', 'r') as f:\n",
    "    data = json.load(f)"
   ]
  },
  {
   "cell_type": "code",
   "execution_count": 5,
   "metadata": {},
   "outputs": [
    {
     "data": {
      "text/plain": [
       "dict_keys(['116432', '9942', '52186', '71582', '113708', '77390', '102301', '100796', '48256', '110481', '104813', '86051', '52942', '33289', '75885', '44882', '105660', '38292', '34271', '86040', '985', '51163', '124191', '113585', '125258', '125736', '112154', '128762', '71180', '118242', '90982', '83363', '15301', '90742', '72726', '57620', '20782', '114102', '111491', '133718', '19276', '80181', '25429', '130395', '104903', '2664', '87058', '124997', '42358', '37596', '60039', '21270', '129827', '107045', '90958', '37672', '12388', '89600', '4257', '12596', '49881', '124481', '74191', '123986', '27484', '119789', '35399', '25489', '53392', '99416', '113135', '79731', '123458', '67989', '19247', '46941', '79572', '112089', '81679', '120581', '56283', '115913', '4084', '88546', '81340', '43456', '108816', '52636', '91907', '78555', '10270', '100190', '83839', '121803', '19804', '123932', '84846', '57683', '127158', '65897'])"
      ]
     },
     "execution_count": 5,
     "metadata": {},
     "output_type": "execute_result"
    }
   ],
   "source": [
    "data.keys()"
   ]
  },
  {
   "cell_type": "code",
   "execution_count": 7,
   "metadata": {},
   "outputs": [
    {
     "data": {
      "text/plain": [
       "dict_keys(['molecule', 'property', 'smiles'])"
      ]
     },
     "execution_count": 7,
     "metadata": {},
     "output_type": "execute_result"
    }
   ],
   "source": [
    "data['116432'].keys()"
   ]
  },
  {
   "cell_type": "code",
   "execution_count": 8,
   "metadata": {},
   "outputs": [
    {
     "data": {
      "text/plain": [
       "{'@module': 'pymatgen.core.structure',\n",
       " '@class': 'Molecule',\n",
       " 'charge': 0,\n",
       " 'spin_multiplicity': 1,\n",
       " 'sites': [{'name': 'O',\n",
       "   'species': [{'element': 'O', 'occu': 1}],\n",
       "   'xyz': [-0.0144247674, 1.4176749803, -0.0676474999],\n",
       "   'properties': {}},\n",
       "  {'name': 'C',\n",
       "   'species': [{'element': 'C', 'occu': 1}],\n",
       "   'xyz': [0.0523419666, 0.0081529066, -0.004018499],\n",
       "   'properties': {}},\n",
       "  {'name': 'C',\n",
       "   'species': [{'element': 'C', 'occu': 1}],\n",
       "   'xyz': [-1.3447622868, -0.6007986394, 0.0166315394],\n",
       "   'properties': {}},\n",
       "  {'name': 'O',\n",
       "   'species': [{'element': 'O', 'occu': 1}],\n",
       "   'xyz': [-1.9954504103, -0.1582217063, -1.1756489358],\n",
       "   'properties': {}},\n",
       "  {'name': 'C',\n",
       "   'species': [{'element': 'C', 'occu': 1}],\n",
       "   'xyz': [-3.3306278386, -0.6214923899, -1.3024586091],\n",
       "   'properties': {}},\n",
       "  {'name': 'C',\n",
       "   'species': [{'element': 'C', 'occu': 1}],\n",
       "   'xyz': [-3.3595079389, -2.1419737241, -1.4374898138],\n",
       "   'properties': {}},\n",
       "  {'name': 'C',\n",
       "   'species': [{'element': 'C', 'occu': 1}],\n",
       "   'xyz': [-2.671226776, -2.7954691198, -0.2253741393],\n",
       "   'properties': {}},\n",
       "  {'name': 'C',\n",
       "   'species': [{'element': 'C', 'occu': 1}],\n",
       "   'xyz': [-1.3435939671, -2.1315337116, 0.1105999894],\n",
       "   'properties': {}},\n",
       "  {'name': 'O',\n",
       "   'species': [{'element': 'O', 'occu': 1}],\n",
       "   'xyz': [-0.3668502387, -2.7492064267, 0.4639910051],\n",
       "   'properties': {}},\n",
       "  {'name': 'H',\n",
       "   'species': [{'element': 'H', 'occu': 1}],\n",
       "   'xyz': [-0.601087174, 1.6226459091, -0.8051197698],\n",
       "   'properties': {}},\n",
       "  {'name': 'H',\n",
       "   'species': [{'element': 'H', 'occu': 1}],\n",
       "   'xyz': [0.6122493249, -0.4168280871, -0.8503883944],\n",
       "   'properties': {}},\n",
       "  {'name': 'H',\n",
       "   'species': [{'element': 'H', 'occu': 1}],\n",
       "   'xyz': [0.5818781429, -0.2602189412, 0.9122075218],\n",
       "   'properties': {}},\n",
       "  {'name': 'H',\n",
       "   'species': [{'element': 'H', 'occu': 1}],\n",
       "   'xyz': [-1.8947382659, -0.2111397837, 0.8940403484],\n",
       "   'properties': {}},\n",
       "  {'name': 'H',\n",
       "   'species': [{'element': 'H', 'occu': 1}],\n",
       "   'xyz': [-3.9285522327, -0.2977854861, -0.4334747711],\n",
       "   'properties': {}},\n",
       "  {'name': 'H',\n",
       "   'species': [{'element': 'H', 'occu': 1}],\n",
       "   'xyz': [-3.7381302601, -0.1350680449, -2.1930092977],\n",
       "   'properties': {}},\n",
       "  {'name': 'H',\n",
       "   'species': [{'element': 'H', 'occu': 1}],\n",
       "   'xyz': [-4.3919116467, -2.4964865415, -1.530133402],\n",
       "   'properties': {}},\n",
       "  {'name': 'H',\n",
       "   'species': [{'element': 'H', 'occu': 1}],\n",
       "   'xyz': [-2.8338257661, -2.4209472495, -2.3574943029],\n",
       "   'properties': {}},\n",
       "  {'name': 'H',\n",
       "   'species': [{'element': 'H', 'occu': 1}],\n",
       "   'xyz': [-3.3109469591, -2.6704487929, 0.6611773306],\n",
       "   'properties': {}},\n",
       "  {'name': 'H',\n",
       "   'species': [{'element': 'H', 'occu': 1}],\n",
       "   'xyz': [-2.5046754262, -3.8671787312, -0.3571779098],\n",
       "   'properties': {}}]}"
      ]
     },
     "execution_count": 8,
     "metadata": {},
     "output_type": "execute_result"
    }
   ],
   "source": [
    "data['116432']['molecule']"
   ]
  },
  {
   "cell_type": "code",
   "execution_count": 9,
   "metadata": {},
   "outputs": [
    {
     "data": {
      "text/plain": [
       "{'tag': 'gdb',\n",
       " 'index': 116432.0,\n",
       " 'A': 2.43225,\n",
       " 'B': 1.4003,\n",
       " 'C': 0.93986,\n",
       " 'mu': 3.9213,\n",
       " 'alpha': 71.78,\n",
       " 'homo': -6.48175548,\n",
       " 'lumo': -0.7591980600000001,\n",
       " 'gap': 5.72255742,\n",
       " 'r2': 1237.8988,\n",
       " 'zpve': 4.3433203996000005,\n",
       " 'U0': -79.0410352142011,\n",
       " 'U': -79.53715345899988,\n",
       " 'H': -79.99980168180117,\n",
       " 'G': -73.46365061320068,\n",
       " 'Cv': 32.459,\n",
       " 'omega1': 3796.7514}"
      ]
     },
     "execution_count": 9,
     "metadata": {},
     "output_type": "execute_result"
    }
   ],
   "source": [
    "data['116432']['property']"
   ]
  },
  {
   "cell_type": "markdown",
   "metadata": {},
   "source": [
    "## Process train_structures and train_targets"
   ]
  },
  {
   "cell_type": "code",
   "execution_count": 11,
   "metadata": {},
   "outputs": [],
   "source": [
    "# from pymatgen import Molecule\n",
    "from pymatgen.core.structure import Molecule\n",
    "\n",
    "qm9_ids = list(data.keys())\n",
    "\n",
    "molecules = [Molecule.from_dict(data[i]['molecule']) for i in qm9_ids]  # this gives a list of pymatgen Molecule\n",
    "\n",
    "structures = molecules\n",
    "targets = [data[i]['property']['U0'] for i in qm9_ids]  # We are training U0 here\n"
   ]
  },
  {
   "cell_type": "markdown",
   "metadata": {},
   "source": [
    "## Data splits\n",
    "\n",
    "In reality, use train-val-test splits. Validation split can be used to select hyperparameters (e.g., epochs)"
   ]
  },
  {
   "cell_type": "code",
   "execution_count": 12,
   "metadata": {},
   "outputs": [],
   "source": [
    "train_structures = structures[:80]\n",
    "test_structures = structures[80:]\n",
    "train_targets = targets[:80]\n",
    "test_targets = targets[80:]"
   ]
  },
  {
   "cell_type": "markdown",
   "metadata": {},
   "source": [
    "## Construct megnet models"
   ]
  },
  {
   "cell_type": "code",
   "execution_count": 13,
   "metadata": {},
   "outputs": [],
   "source": [
    "from megnet.models import MEGNetModel\n",
    "from megnet.data.graph import GaussianDistance\n",
    "from megnet.data.crystal import CrystalGraph\n",
    "from megnet.utils.preprocessing import StandardScaler\n",
    "import numpy as np"
   ]
  },
  {
   "cell_type": "code",
   "execution_count": 14,
   "metadata": {},
   "outputs": [],
   "source": [
    "gc = CrystalGraph(bond_converter=GaussianDistance(\n",
    "    np.linspace(0, 5, 100), 0.5), cutoff=4)\n",
    "model = MEGNetModel(100, 2, graph_converter=gc)"
   ]
  },
  {
   "cell_type": "markdown",
   "metadata": {},
   "source": [
    "### Scale targets to train per atom quantity "
   ]
  },
  {
   "cell_type": "code",
   "execution_count": 15,
   "metadata": {},
   "outputs": [],
   "source": [
    "INTENSIVE = False # U0 is an extensive quantity\n",
    "scaler = StandardScaler.from_training_data(train_structures, train_targets, is_intensive=INTENSIVE)\n",
    "model.target_scaler = scaler"
   ]
  },
  {
   "cell_type": "code",
   "execution_count": 16,
   "metadata": {},
   "outputs": [
    {
     "data": {
      "text/plain": [
       "StandardScaler(mean=-4.259, std=0.188, is_intensive=False)"
      ]
     },
     "execution_count": 16,
     "metadata": {},
     "output_type": "execute_result"
    }
   ],
   "source": [
    "scaler"
   ]
  },
  {
   "cell_type": "markdown",
   "metadata": {},
   "source": [
    "## Train the model!"
   ]
  },
  {
   "cell_type": "code",
   "execution_count": 18,
   "metadata": {},
   "outputs": [
    {
     "name": "stdout",
     "output_type": "stream",
     "text": [
      "Epoch 1/100\n",
      "1/1 - 0s - loss: 0.9533 - 72ms/epoch - 72ms/step\n",
      "Epoch 2/100\n",
      "1/1 - 0s - loss: 0.9407 - 104ms/epoch - 104ms/step\n",
      "Epoch 3/100\n",
      "1/1 - 0s - loss: 0.9239 - 98ms/epoch - 98ms/step\n",
      "Epoch 4/100\n",
      "1/1 - 0s - loss: 0.9004 - 101ms/epoch - 101ms/step\n",
      "Epoch 5/100\n",
      "1/1 - 0s - loss: 0.8687 - 96ms/epoch - 96ms/step\n",
      "Epoch 6/100\n",
      "1/1 - 0s - loss: 0.8237 - 106ms/epoch - 106ms/step\n",
      "Epoch 7/100\n",
      "1/1 - 0s - loss: 0.7693 - 93ms/epoch - 93ms/step\n",
      "Epoch 8/100\n",
      "1/1 - 0s - loss: 0.7317 - 107ms/epoch - 107ms/step\n",
      "Epoch 9/100\n",
      "1/1 - 0s - loss: 0.8259 - 99ms/epoch - 99ms/step\n",
      "Epoch 10/100\n",
      "1/1 - 0s - loss: 0.8171 - 103ms/epoch - 103ms/step\n",
      "Epoch 11/100\n",
      "1/1 - 0s - loss: 0.7401 - 97ms/epoch - 97ms/step\n",
      "Epoch 12/100\n",
      "1/1 - 0s - loss: 0.7142 - 99ms/epoch - 99ms/step\n",
      "Epoch 13/100\n",
      "1/1 - 0s - loss: 0.7320 - 102ms/epoch - 102ms/step\n",
      "Epoch 14/100\n",
      "1/1 - 0s - loss: 0.7274 - 97ms/epoch - 97ms/step\n",
      "Epoch 15/100\n",
      "1/1 - 0s - loss: 0.7201 - 107ms/epoch - 107ms/step\n",
      "Epoch 16/100\n",
      "1/1 - 0s - loss: 0.7230 - 94ms/epoch - 94ms/step\n",
      "Epoch 17/100\n",
      "1/1 - 0s - loss: 0.7263 - 102ms/epoch - 102ms/step\n",
      "Epoch 18/100\n",
      "1/1 - 0s - loss: 0.7163 - 100ms/epoch - 100ms/step\n",
      "Epoch 19/100\n",
      "1/1 - 0s - loss: 0.6935 - 102ms/epoch - 102ms/step\n",
      "Epoch 20/100\n",
      "1/1 - 0s - loss: 0.6710 - 93ms/epoch - 93ms/step\n",
      "Epoch 21/100\n",
      "1/1 - 0s - loss: 0.6545 - 106ms/epoch - 106ms/step\n",
      "Epoch 22/100\n",
      "1/1 - 0s - loss: 0.6285 - 101ms/epoch - 101ms/step\n",
      "Epoch 23/100\n",
      "1/1 - 0s - loss: 0.5968 - 104ms/epoch - 104ms/step\n",
      "Epoch 24/100\n",
      "1/1 - 0s - loss: 0.5959 - 91ms/epoch - 91ms/step\n",
      "Epoch 25/100\n",
      "1/1 - 0s - loss: 0.5784 - 100ms/epoch - 100ms/step\n",
      "Epoch 26/100\n",
      "1/1 - 0s - loss: 0.5745 - 81ms/epoch - 81ms/step\n",
      "Epoch 27/100\n",
      "1/1 - 0s - loss: 0.5287 - 121ms/epoch - 121ms/step\n",
      "Epoch 28/100\n",
      "1/1 - 0s - loss: 0.5019 - 103ms/epoch - 103ms/step\n",
      "Epoch 29/100\n",
      "1/1 - 0s - loss: 0.4634 - 100ms/epoch - 100ms/step\n",
      "Epoch 30/100\n",
      "1/1 - 0s - loss: 0.4423 - 96ms/epoch - 96ms/step\n",
      "Epoch 31/100\n",
      "1/1 - 0s - loss: 0.4106 - 98ms/epoch - 98ms/step\n",
      "Epoch 32/100\n",
      "1/1 - 0s - loss: 0.3764 - 102ms/epoch - 102ms/step\n",
      "Epoch 33/100\n",
      "1/1 - 0s - loss: 0.3409 - 103ms/epoch - 103ms/step\n",
      "Epoch 34/100\n",
      "1/1 - 0s - loss: 0.3221 - 97ms/epoch - 97ms/step\n",
      "Epoch 35/100\n",
      "1/1 - 0s - loss: 0.3018 - 98ms/epoch - 98ms/step\n",
      "Epoch 36/100\n",
      "1/1 - 0s - loss: 0.2723 - 99ms/epoch - 99ms/step\n",
      "Epoch 37/100\n",
      "1/1 - 0s - loss: 0.2541 - 108ms/epoch - 108ms/step\n",
      "Epoch 38/100\n",
      "1/1 - 0s - loss: 0.2402 - 97ms/epoch - 97ms/step\n",
      "Epoch 39/100\n",
      "1/1 - 0s - loss: 0.2313 - 100ms/epoch - 100ms/step\n",
      "Epoch 40/100\n",
      "1/1 - 0s - loss: 0.2171 - 101ms/epoch - 101ms/step\n",
      "Epoch 41/100\n",
      "1/1 - 0s - loss: 0.2074 - 100ms/epoch - 100ms/step\n",
      "Epoch 42/100\n",
      "1/1 - 0s - loss: 0.2102 - 99ms/epoch - 99ms/step\n",
      "Epoch 43/100\n",
      "1/1 - 0s - loss: 0.2082 - 99ms/epoch - 99ms/step\n",
      "Epoch 44/100\n",
      "1/1 - 0s - loss: 0.2068 - 103ms/epoch - 103ms/step\n",
      "Epoch 45/100\n",
      "1/1 - 0s - loss: 0.1996 - 93ms/epoch - 93ms/step\n",
      "Epoch 46/100\n",
      "1/1 - 0s - loss: 0.1970 - 109ms/epoch - 109ms/step\n",
      "Epoch 47/100\n",
      "1/1 - 0s - loss: 0.1920 - 94ms/epoch - 94ms/step\n",
      "Epoch 48/100\n",
      "1/1 - 0s - loss: 0.1861 - 99ms/epoch - 99ms/step\n",
      "Epoch 49/100\n",
      "1/1 - 0s - loss: 0.1805 - 98ms/epoch - 98ms/step\n",
      "Epoch 50/100\n",
      "1/1 - 0s - loss: 0.1760 - 112ms/epoch - 112ms/step\n",
      "Epoch 51/100\n",
      "1/1 - 0s - loss: 0.1745 - 88ms/epoch - 88ms/step\n",
      "Epoch 52/100\n",
      "1/1 - 0s - loss: 0.1683 - 104ms/epoch - 104ms/step\n",
      "Epoch 53/100\n",
      "1/1 - 0s - loss: 0.1655 - 117ms/epoch - 117ms/step\n",
      "Epoch 54/100\n",
      "1/1 - 0s - loss: 0.1632 - 82ms/epoch - 82ms/step\n",
      "Epoch 55/100\n",
      "1/1 - 0s - loss: 0.1578 - 105ms/epoch - 105ms/step\n",
      "Epoch 56/100\n",
      "1/1 - 0s - loss: 0.1554 - 102ms/epoch - 102ms/step\n",
      "Epoch 57/100\n",
      "1/1 - 0s - loss: 0.1556 - 91ms/epoch - 91ms/step\n",
      "Epoch 58/100\n",
      "1/1 - 0s - loss: 0.1526 - 106ms/epoch - 106ms/step\n",
      "Epoch 59/100\n",
      "1/1 - 0s - loss: 0.1522 - 106ms/epoch - 106ms/step\n",
      "Epoch 60/100\n",
      "1/1 - 0s - loss: 0.1521 - 92ms/epoch - 92ms/step\n",
      "Epoch 61/100\n",
      "1/1 - 0s - loss: 0.1498 - 100ms/epoch - 100ms/step\n",
      "Epoch 62/100\n",
      "1/1 - 0s - loss: 0.1499 - 110ms/epoch - 110ms/step\n",
      "Epoch 63/100\n",
      "1/1 - 0s - loss: 0.1502 - 102ms/epoch - 102ms/step\n",
      "Epoch 64/100\n",
      "1/1 - 0s - loss: 0.1486 - 94ms/epoch - 94ms/step\n",
      "Epoch 65/100\n",
      "1/1 - 0s - loss: 0.1486 - 97ms/epoch - 97ms/step\n",
      "Epoch 66/100\n",
      "1/1 - 0s - loss: 0.1482 - 103ms/epoch - 103ms/step\n",
      "Epoch 67/100\n",
      "1/1 - 0s - loss: 0.1459 - 99ms/epoch - 99ms/step\n",
      "Epoch 68/100\n",
      "1/1 - 0s - loss: 0.1454 - 105ms/epoch - 105ms/step\n",
      "Epoch 69/100\n",
      "1/1 - 0s - loss: 0.1450 - 98ms/epoch - 98ms/step\n",
      "Epoch 70/100\n",
      "1/1 - 0s - loss: 0.1424 - 90ms/epoch - 90ms/step\n",
      "Epoch 71/100\n",
      "1/1 - 0s - loss: 0.1417 - 111ms/epoch - 111ms/step\n",
      "Epoch 72/100\n",
      "1/1 - 0s - loss: 0.1417 - 104ms/epoch - 104ms/step\n",
      "Epoch 73/100\n",
      "1/1 - 0s - loss: 0.1393 - 92ms/epoch - 92ms/step\n",
      "Epoch 74/100\n",
      "1/1 - 0s - loss: 0.1374 - 85ms/epoch - 85ms/step\n",
      "Epoch 75/100\n",
      "1/1 - 0s - loss: 0.1359 - 118ms/epoch - 118ms/step\n",
      "Epoch 76/100\n",
      "1/1 - 0s - loss: 0.1350 - 101ms/epoch - 101ms/step\n",
      "Epoch 77/100\n",
      "1/1 - 0s - loss: 0.1351 - 99ms/epoch - 99ms/step\n",
      "Epoch 78/100\n",
      "1/1 - 0s - loss: 0.1343 - 104ms/epoch - 104ms/step\n",
      "Epoch 79/100\n",
      "1/1 - 0s - loss: 0.1346 - 104ms/epoch - 104ms/step\n",
      "Epoch 80/100\n",
      "1/1 - 0s - loss: 0.1323 - 91ms/epoch - 91ms/step\n",
      "Epoch 81/100\n",
      "1/1 - 0s - loss: 0.1293 - 100ms/epoch - 100ms/step\n",
      "Epoch 82/100\n",
      "1/1 - 0s - loss: 0.1274 - 106ms/epoch - 106ms/step\n",
      "Epoch 83/100\n",
      "1/1 - 0s - loss: 0.1259 - 97ms/epoch - 97ms/step\n",
      "Epoch 84/100\n",
      "1/1 - 0s - loss: 0.1255 - 96ms/epoch - 96ms/step\n",
      "Epoch 85/100\n",
      "1/1 - 0s - loss: 0.1274 - 100ms/epoch - 100ms/step\n",
      "Epoch 86/100\n",
      "1/1 - 0s - loss: 0.1371 - 109ms/epoch - 109ms/step\n",
      "Epoch 87/100\n",
      "1/1 - 0s - loss: 0.1747 - 95ms/epoch - 95ms/step\n",
      "Epoch 88/100\n",
      "1/1 - 0s - loss: 0.1368 - 101ms/epoch - 101ms/step\n",
      "Epoch 89/100\n",
      "1/1 - 0s - loss: 0.1175 - 96ms/epoch - 96ms/step\n",
      "Epoch 90/100\n",
      "1/1 - 0s - loss: 0.1497 - 106ms/epoch - 106ms/step\n",
      "Epoch 91/100\n",
      "1/1 - 0s - loss: 0.1449 - 98ms/epoch - 98ms/step\n",
      "Epoch 92/100\n",
      "1/1 - 0s - loss: 0.1340 - 102ms/epoch - 102ms/step\n",
      "Epoch 93/100\n",
      "1/1 - 0s - loss: 0.1293 - 109ms/epoch - 109ms/step\n",
      "Epoch 94/100\n",
      "1/1 - 0s - loss: 0.1296 - 100ms/epoch - 100ms/step\n",
      "Epoch 95/100\n",
      "1/1 - 0s - loss: 0.1161 - 89ms/epoch - 89ms/step\n",
      "Epoch 96/100\n",
      "1/1 - 0s - loss: 0.1244 - 105ms/epoch - 105ms/step\n",
      "Epoch 97/100\n",
      "1/1 - 0s - loss: 0.1208 - 104ms/epoch - 104ms/step\n",
      "Epoch 98/100\n",
      "1/1 - 0s - loss: 0.1150 - 94ms/epoch - 94ms/step\n",
      "Epoch 99/100\n",
      "1/1 - 0s - loss: 0.1184 - 102ms/epoch - 102ms/step\n",
      "Epoch 100/100\n",
      "1/1 - 0s - loss: 0.1097 - 101ms/epoch - 101ms/step\n"
     ]
    },
    {
     "data": {
      "text/plain": [
       "<megnet.models.megnet.MEGNetModel at 0x7fe23c9a7940>"
      ]
     },
     "execution_count": 18,
     "metadata": {},
     "output_type": "execute_result"
    }
   ],
   "source": [
    "model.train(train_structures, train_targets, epochs=100, verbose=2)  # In reality, use epochs>1000"
   ]
  },
  {
   "cell_type": "markdown",
   "metadata": {},
   "source": [
    "## Predict test data"
   ]
  },
  {
   "cell_type": "code",
   "execution_count": 19,
   "metadata": {},
   "outputs": [
    {
     "name": "stderr",
     "output_type": "stream",
     "text": [
      "/root/anaconda3/envs/megnet/lib/python3.8/site-packages/keras/engine/training_v1.py:2079: UserWarning: `Model.state_updates` will be removed in a future version. This property should not be used in TensorFlow 2.0, as `updates` are applied automatically.\n",
      "  updates=self.state_updates,\n"
     ]
    }
   ],
   "source": [
    "predicted_tests = []\n",
    "for i in test_structures:\n",
    "    predicted_tests.append(model.predict_structure(i).ravel()[0])"
   ]
  },
  {
   "cell_type": "code",
   "execution_count": 9,
   "metadata": {},
   "outputs": [
    {
     "data": {
      "text/plain": [
       "Text(0, 0.5, 'Predicted $U_0$ (eV)')"
      ]
     },
     "execution_count": 9,
     "metadata": {},
     "output_type": "execute_result"
    },
    {
     "data": {
      "image/png": "[encoded data removed]",
      "text/plain": [
       "<Figure size 432x288 with 1 Axes>"
      ]
     },
     "metadata": {
      "needs_background": "light"
     },
     "output_type": "display_data"
    }
   ],
   "source": [
    "import matplotlib.pyplot as plt\n",
    "%matplotlib inline\n",
    "\n",
    "plt.plot(test_targets, predicted_tests, 'o')\n",
    "plt.xlabel('True $U_0$ (eV)')\n",
    "plt.ylabel('Predicted $U_0$ (eV)')"
   ]
  },
  {
   "cell_type": "code",
   "execution_count": 20,
   "metadata": {},
   "outputs": [
    {
     "data": {
      "text/plain": [
       "Text(0, 0.5, 'Predicted $U_0$ (eV)')"
      ]
     },
     "execution_count": 20,
     "metadata": {},
     "output_type": "execute_result"
    },
    {
     "data": {
      "image/png": "[encoded data removed]",
      "text/plain": [
       "<Figure size 640x480 with 1 Axes>"
      ]
     },
     "metadata": {},
     "output_type": "display_data"
    }
   ],
   "source": [
    "import matplotlib.pyplot as plt\n",
    "%matplotlib inline\n",
    "\n",
    "plt.plot(test_targets, predicted_tests, 'o')\n",
    "plt.xlabel('True $U_0$ (eV)')\n",
    "plt.ylabel('Predicted $U_0$ (eV)')"
   ]
  },
  {
   "cell_type": "markdown",
   "metadata": {},
   "source": [
    "Results seem to be good considering that we are using 80 data points to train the model!"
   ]
  }
 ],
 "metadata": {
  "kernelspec": {
   "display_name": "Python 3",
   "language": "python",
   "name": "python3"
  },
  "language_info": {
   "codemirror_mode": {
    "name": "ipython",
    "version": 3
   },
   "file_extension": ".py",
   "mimetype": "text/x-python",
   "name": "python",
   "nbconvert_exporter": "python",
   "pygments_lexer": "ipython3",
   "version": "3.8.18"
  }
 },
 "nbformat": 4,
 "nbformat_minor": 2
}
