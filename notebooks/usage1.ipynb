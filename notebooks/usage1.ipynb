{
 "cells": [
  {
   "cell_type": "code",
   "execution_count": 24,
   "metadata": {},
   "outputs": [],
   "source": [
    "from megnet.utils.models import load_model\n",
    "from pymatgen.core import Structure, Lattice\n"
   ]
  },
  {
   "cell_type": "code",
   "execution_count": 25,
   "metadata": {},
   "outputs": [],
   "source": [
    "# load a model in megnet.utils.models.AVAILABLE_MODELS\n",
    "# model = load_model(\"logK_MP_2018\")\n",
    "# model = load_model(\"Bandgap_MP_2018\")\n",
    "model = load_model(\"Eform_MP_2019\")"
   ]
  },
  {
   "cell_type": "code",
   "execution_count": 14,
   "metadata": {},
   "outputs": [
    {
     "name": "stdout",
     "output_type": "stream",
     "text": [
      "The predicted gap for Mo is 1 ev.\n"
     ]
    }
   ],
   "source": [
    "# We can construct a structure using pymatgen\n",
    "structure = Structure(Lattice.cubic(3.167),\n",
    "            ['Mo', 'Mo'], [[0, 0, 0], [0.5, 0.5, 0.5]])\n",
    "\n",
    "\n",
    "# Use the model to predict bulk modulus K. Note that the model is trained on\n",
    "# log10 K. So a conversion is necessary.\n",
    "predicted_K = 10 ** model.predict_structure(structure).ravel()[0]\n",
    "# print(f'The predicted K for {structure.composition.reduced_formula} is {predicted_K:.0f} GPa.')\n",
    "print(f'The predicted gap for {structure.composition.reduced_formula} is {predicted_K:.0f} ev.')"
   ]
  },
  {
   "cell_type": "markdown",
   "metadata": {},
   "source": [
    "## Predict from MP structure"
   ]
  },
  {
   "cell_type": "markdown",
   "metadata": {},
   "source": [
    "# "
   ]
  },
  {
   "cell_type": "code",
   "execution_count": 12,
   "metadata": {},
   "outputs": [
    {
     "name": "stderr",
     "output_type": "stream",
     "text": [
      "/root/anaconda3/envs/megnet/lib/python3.8/site-packages/pymatgen/ext/matproj.py:183: UserWarning: You are using the legacy MPRester. This version of the MPRester will no longer be updated. To access the latest data with the new MPRester, obtain a new API key from https://materialsproject.org/api and consult the docs at https://docs.materialsproject.org/ for more information.\n",
      "  warnings.warn(\n"
     ]
    }
   ],
   "source": [
    "from pymatgen.ext.matproj import MPRestError, TaskType, _MPResterLegacy\n",
    "# rester = _MPResterLegacy(api_key='iAihdZzrZYLQKZms1S43De90NiNK6ABB') # mp-api style\n",
    "rester = _MPResterLegacy('iTPrDnB1NuSywGXI')  # legacy style get the mp data"
   ]
  },
  {
   "cell_type": "code",
   "execution_count": 23,
   "metadata": {},
   "outputs": [
    {
     "name": "stdout",
     "output_type": "stream",
     "text": [
      "The predicted gap for Fe is 0.01 ev.\n",
      "The MP gap for Fe is 0.00 ev.\n"
     ]
    }
   ],
   "source": [
    "# mp-1143 gap predict value\n",
    "structure = rester.get_structure_by_material_id('mp-13')\n",
    "gap = model.predict_structure(structure).ravel()[0]\n",
    "print(f'The predicted gap for {structure.composition.reduced_formula} is {gap:.2f} ev.')\n",
    "\n",
    "# mp-1143 mp gap calculate value\n",
    "mp_gap = rester.query('mp-13',['band_gap'])[0]['band_gap']\n",
    "print(f'The MP gap for {structure.composition.reduced_formula} is {mp_gap:.2f} ev.')\n"
   ]
  },
  {
   "cell_type": "code",
   "execution_count": 27,
   "metadata": {},
   "outputs": [
    {
     "name": "stdout",
     "output_type": "stream",
     "text": [
      "The predicted eform for Se is 0.02 ev.\n",
      "The MP eform for Se is 1.01 ev.\n"
     ]
    }
   ],
   "source": [
    "# mp-1143 eform predict value\n",
    "structure = rester.get_structure_by_material_id('mp-14')\n",
    "gap = model.predict_structure(structure).ravel()[0]\n",
    "print(f'The predicted eform for {structure.composition.reduced_formula} is {gap:.2f} ev.')\n",
    "\n",
    "# mp-1143 MP eform calculate value\n",
    "mp_gap = rester.query('mp-14',['band_gap'])[0]['band_gap']\n",
    "print(f'The MP eform for {structure.composition.reduced_formula} is {mp_gap:.2f} ev.')"
   ]
  },
  {
   "cell_type": "code",
   "execution_count": 16,
   "metadata": {},
   "outputs": [
    {
     "data": {
      "text/plain": [
       "array([5.8528585], dtype=float32)"
      ]
     },
     "execution_count": 16,
     "metadata": {},
     "output_type": "execute_result"
    }
   ],
   "source": [
    "gap"
   ]
  },
  {
   "cell_type": "code",
   "execution_count": 20,
   "metadata": {},
   "outputs": [
    {
     "data": {
      "text/plain": [
       "[{'band_gap': 6.043599999999999}]"
      ]
     },
     "execution_count": 20,
     "metadata": {},
     "output_type": "execute_result"
    }
   ],
   "source": [
    "mp_gap"
   ]
  },
  {
   "cell_type": "code",
   "execution_count": 6,
   "metadata": {},
   "outputs": [
    {
     "data": {
      "text/plain": [
       "['__class__',\n",
       " '__delattr__',\n",
       " '__dict__',\n",
       " '__dir__',\n",
       " '__doc__',\n",
       " '__eq__',\n",
       " '__format__',\n",
       " '__ge__',\n",
       " '__getattr__',\n",
       " '__getattribute__',\n",
       " '__gt__',\n",
       " '__hash__',\n",
       " '__init__',\n",
       " '__init_subclass__',\n",
       " '__le__',\n",
       " '__lt__',\n",
       " '__module__',\n",
       " '__ne__',\n",
       " '__new__',\n",
       " '__reduce__',\n",
       " '__reduce_ex__',\n",
       " '__repr__',\n",
       " '__setattr__',\n",
       " '__sizeof__',\n",
       " '__str__',\n",
       " '__subclasshook__',\n",
       " '__weakref__',\n",
       " '_create_generator',\n",
       " 'check_dimension',\n",
       " 'from_file',\n",
       " 'get_all_graphs_targets',\n",
       " 'graph_converter',\n",
       " 'metadata',\n",
       " 'model',\n",
       " 'predict_graph',\n",
       " 'predict_graphs',\n",
       " 'predict_structure',\n",
       " 'predict_structures',\n",
       " 'save_model',\n",
       " 'target_scaler',\n",
       " 'train',\n",
       " 'train_from_graphs']"
      ]
     },
     "execution_count": 6,
     "metadata": {},
     "output_type": "execute_result"
    }
   ],
   "source": [
    "\n",
    "dir(model)"
   ]
  },
  {
   "cell_type": "code",
   "execution_count": null,
   "metadata": {},
   "outputs": [],
   "source": []
  },
  {
   "cell_type": "code",
   "execution_count": null,
   "metadata": {},
   "outputs": [],
   "source": []
  }
 ],
 "metadata": {
  "kernelspec": {
   "display_name": "megnet",
   "language": "python",
   "name": "python3"
  },
  "language_info": {
   "codemirror_mode": {
    "name": "ipython",
    "version": 3
   },
   "file_extension": ".py",
   "mimetype": "text/x-python",
   "name": "python",
   "nbconvert_exporter": "python",
   "pygments_lexer": "ipython3",
   "version": "3.8.18"
  }
 },
 "nbformat": 4,
 "nbformat_minor": 2
}
