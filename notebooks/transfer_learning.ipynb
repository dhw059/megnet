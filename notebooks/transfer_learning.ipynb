{
 "cells": [
  {
   "cell_type": "code",
   "execution_count": 1,
   "metadata": {},
   "outputs": [],
   "source": [
    "import warnings\n",
    "\n",
    "warnings.filterwarnings('ignore')\n",
    "\n",
    "from megnet.models import MEGNetModel\n"
   ]
  },
  {
   "cell_type": "markdown",
   "metadata": {},
   "source": [
    "### Load formation energy model"
   ]
  },
  {
   "cell_type": "code",
   "execution_count": 2,
   "metadata": {},
   "outputs": [
    {
     "name": "stderr",
     "output_type": "stream",
     "text": [
      "2024-01-22 20:24:40.155562: I tensorflow/stream_executor/cuda/cuda_gpu_executor.cc:936] successful NUMA node read from SysFS had negative value (-1), but there must be at least one NUMA node, so returning NUMA node zero\n",
      "2024-01-22 20:24:40.169098: I tensorflow/stream_executor/cuda/cuda_gpu_executor.cc:936] successful NUMA node read from SysFS had negative value (-1), but there must be at least one NUMA node, so returning NUMA node zero\n",
      "2024-01-22 20:24:40.169184: I tensorflow/stream_executor/cuda/cuda_gpu_executor.cc:936] successful NUMA node read from SysFS had negative value (-1), but there must be at least one NUMA node, so returning NUMA node zero\n",
      "2024-01-22 20:24:40.169652: I tensorflow/core/platform/cpu_feature_guard.cc:151] This TensorFlow binary is optimized with oneAPI Deep Neural Network Library (oneDNN) to use the following CPU instructions in performance-critical operations:  AVX2 FMA\n",
      "To enable them in other operations, rebuild TensorFlow with the appropriate compiler flags.\n",
      "2024-01-22 20:24:40.170291: I tensorflow/stream_executor/cuda/cuda_gpu_executor.cc:936] successful NUMA node read from SysFS had negative value (-1), but there must be at least one NUMA node, so returning NUMA node zero\n",
      "2024-01-22 20:24:40.170355: I tensorflow/stream_executor/cuda/cuda_gpu_executor.cc:936] successful NUMA node read from SysFS had negative value (-1), but there must be at least one NUMA node, so returning NUMA node zero\n",
      "2024-01-22 20:24:40.170393: I tensorflow/stream_executor/cuda/cuda_gpu_executor.cc:936] successful NUMA node read from SysFS had negative value (-1), but there must be at least one NUMA node, so returning NUMA node zero\n",
      "2024-01-22 20:24:40.204286: I tensorflow/stream_executor/cuda/cuda_gpu_executor.cc:936] successful NUMA node read from SysFS had negative value (-1), but there must be at least one NUMA node, so returning NUMA node zero\n",
      "2024-01-22 20:24:40.204366: I tensorflow/stream_executor/cuda/cuda_gpu_executor.cc:936] successful NUMA node read from SysFS had negative value (-1), but there must be at least one NUMA node, so returning NUMA node zero\n",
      "2024-01-22 20:24:40.204411: I tensorflow/stream_executor/cuda/cuda_gpu_executor.cc:936] successful NUMA node read from SysFS had negative value (-1), but there must be at least one NUMA node, so returning NUMA node zero\n",
      "2024-01-22 20:24:40.204461: I tensorflow/core/common_runtime/gpu/gpu_device.cc:1525] Created device /job:localhost/replica:0/task:0/device:GPU:0 with 1025 MB memory:  -> device: 0, name: NVIDIA GeForce RTX 4090, pci bus id: 0000:01:00.0, compute capability: 8.9\n"
     ]
    }
   ],
   "source": [
    "model_form = MEGNetModel.from_file('../mvl_models/mp-2018.6.1/formation_energy.hdf5')"
   ]
  },
  {
   "cell_type": "code",
   "execution_count": 3,
   "metadata": {},
   "outputs": [
    {
     "data": {
      "text/plain": [
       "[<keras.engine.input_layer.InputLayer at 0x7f4a5f33d4f0>,\n",
       " <keras.layers.embeddings.Embedding at 0x7f4a5f33d460>,\n",
       " <keras.engine.input_layer.InputLayer at 0x7f4a5f2b9550>,\n",
       " <keras.engine.input_layer.InputLayer at 0x7f4a5f2b94f0>,\n",
       " <keras.layers.core.dense.Dense at 0x7f4a5f33d550>,\n",
       " <keras.layers.core.dense.Dense at 0x7f4a5f2b9fd0>,\n",
       " <keras.layers.core.dense.Dense at 0x7f4a5e9dc370>,\n",
       " <keras.layers.core.dense.Dense at 0x7f4a5e9dc6d0>,\n",
       " <keras.layers.core.dense.Dense at 0x7f4a5e9dca30>,\n",
       " <keras.layers.core.dense.Dense at 0x7f4a5e9dcd90>,\n",
       " <keras.engine.input_layer.InputLayer at 0x7f4a5e9e0130>,\n",
       " <keras.engine.input_layer.InputLayer at 0x7f4a5e9e0160>,\n",
       " <keras.engine.input_layer.InputLayer at 0x7f4a5e9e05b0>,\n",
       " <keras.engine.input_layer.InputLayer at 0x7f4a5e9e0940>,\n",
       " <megnet.layers.graph.megnet.MEGNetLayer at 0x7f4a5e9dce20>,\n",
       " <keras.layers.merge.Add at 0x7f4a5e9e56a0>,\n",
       " <keras.layers.merge.Add at 0x7f4a5e9e5700>,\n",
       " <keras.layers.merge.Add at 0x7f4a5e9e5790>,\n",
       " <keras.layers.core.dense.Dense at 0x7f4a5e9e5af0>,\n",
       " <keras.layers.core.dense.Dense at 0x7f4a5e9e5e80>,\n",
       " <keras.layers.core.dense.Dense at 0x7f4a5e9f8520>,\n",
       " <keras.layers.core.dense.Dense at 0x7f4a5e9f8880>,\n",
       " <keras.layers.core.dense.Dense at 0x7f4a5e9f8be0>,\n",
       " <keras.layers.core.dense.Dense at 0x7f4a5e9f8f40>,\n",
       " <megnet.layers.graph.megnet.MEGNetLayer at 0x7f4a5e9f8fd0>,\n",
       " <keras.layers.merge.Add at 0x7f4a5e9fa9d0>,\n",
       " <keras.layers.merge.Add at 0x7f4a5e9faa30>,\n",
       " <keras.layers.merge.Add at 0x7f4a5e9faac0>,\n",
       " <keras.layers.core.dense.Dense at 0x7f4a5e9fae20>,\n",
       " <keras.layers.core.dense.Dense at 0x7f4a5e9ff4f0>,\n",
       " <keras.layers.core.dense.Dense at 0x7f4a5e9ff850>,\n",
       " <keras.layers.core.dense.Dense at 0x7f4a5e9ffbb0>,\n",
       " <keras.layers.core.dense.Dense at 0x7f4a5e9fff10>,\n",
       " <keras.layers.core.dense.Dense at 0x7f4a5e9fffa0>,\n",
       " <megnet.layers.graph.megnet.MEGNetLayer at 0x7f4a5ea03610>,\n",
       " <keras.layers.merge.Add at 0x7f4a5ea03d00>,\n",
       " <keras.layers.merge.Add at 0x7f4a5ea03d60>,\n",
       " <megnet.layers.readout.set2set.Set2Set at 0x7f4a5ea03e20>,\n",
       " <megnet.layers.readout.set2set.Set2Set at 0x7f4a5ea08760>,\n",
       " <keras.layers.merge.Add at 0x7f4a5ea08c70>,\n",
       " <keras.layers.merge.Concatenate at 0x7f4a5ea08d00>,\n",
       " <keras.layers.core.dense.Dense at 0x7f4a5ea08fd0>,\n",
       " <keras.layers.core.dense.Dense at 0x7f4a5e99e4f0>,\n",
       " <keras.layers.core.dense.Dense at 0x7f4a5e99e850>]"
      ]
     },
     "execution_count": 3,
     "metadata": {},
     "output_type": "execute_result"
    }
   ],
   "source": [
    "model_form.layers"
   ]
  },
  {
   "cell_type": "code",
   "execution_count": 6,
   "metadata": {},
   "outputs": [
    {
     "data": {
      "text/plain": [
       "['input_1',\n",
       " 'embedding_1',\n",
       " 'input_2',\n",
       " 'input_3',\n",
       " 'dense_1',\n",
       " 'dense_3',\n",
       " 'dense_5',\n",
       " 'dense_2',\n",
       " 'dense_4',\n",
       " 'dense_6',\n",
       " 'input_4',\n",
       " 'input_5',\n",
       " 'input_6',\n",
       " 'input_7',\n",
       " 'meg_net_layer_1',\n",
       " 'add_1',\n",
       " 'add_2',\n",
       " 'add_3',\n",
       " 'dense_7',\n",
       " 'dense_9',\n",
       " 'dense_11',\n",
       " 'dense_8',\n",
       " 'dense_10',\n",
       " 'dense_12',\n",
       " 'meg_net_layer_2',\n",
       " 'add_4',\n",
       " 'add_5',\n",
       " 'add_6',\n",
       " 'dense_13',\n",
       " 'dense_15',\n",
       " 'dense_17',\n",
       " 'dense_14',\n",
       " 'dense_16',\n",
       " 'dense_18',\n",
       " 'meg_net_layer_3',\n",
       " 'add_7',\n",
       " 'add_8',\n",
       " 'set2_set_1',\n",
       " 'set2_set_2',\n",
       " 'add_9',\n",
       " 'concatenate_1',\n",
       " 'dense_19',\n",
       " 'dense_20',\n",
       " 'dense_21']"
      ]
     },
     "execution_count": 6,
     "metadata": {},
     "output_type": "execute_result"
    }
   ],
   "source": [
    "[i.name for i in model_form.layers]"
   ]
  },
  {
   "cell_type": "code",
   "execution_count": 5,
   "metadata": {},
   "outputs": [
    {
     "data": {
      "text/plain": [
       "'input_1'"
      ]
     },
     "execution_count": 5,
     "metadata": {},
     "output_type": "execute_result"
    }
   ],
   "source": [
    "model_form.layers[0].name"
   ]
  },
  {
   "cell_type": "markdown",
   "metadata": {},
   "source": [
    "### Get the embedding layer"
   ]
  },
  {
   "cell_type": "code",
   "execution_count": 7,
   "metadata": {},
   "outputs": [
    {
     "name": "stdout",
     "output_type": "stream",
     "text": [
      "Embedding matrix dimension is  (95, 16)\n"
     ]
    }
   ],
   "source": [
    "embedding_layer = [i for i in model_form.layers if i.name.startswith('embedding')][0]\n",
    "embedding = embedding_layer.get_weights()[0]\n",
    "print('Embedding matrix dimension is ', embedding.shape)"
   ]
  },
  {
   "cell_type": "code",
   "execution_count": 8,
   "metadata": {},
   "outputs": [
    {
     "data": {
      "text/plain": [
       "array([[-0.01925377, -0.04383501,  0.01868666, ..., -0.02677364,\n",
       "        -0.03300881, -0.04033415],\n",
       "       [-0.49307713,  0.48247465, -0.2530202 , ..., -0.40325513,\n",
       "         0.30468777,  0.18270242],\n",
       "       [-0.9741373 , -0.1879723 , -0.6057493 , ..., -0.44998255,\n",
       "         0.5049042 ,  0.17792016],\n",
       "       ...,\n",
       "       [ 1.0661256 ,  0.45345035,  0.41983265, ...,  0.5088932 ,\n",
       "         0.02797919, -0.16767566],\n",
       "       [ 0.81127083, -0.21892792,  0.19341795, ...,  0.5296463 ,\n",
       "        -0.21794377, -0.00269936],\n",
       "       [ 1.0503706 ,  0.22049105,  0.28066757, ...,  0.25579533,\n",
       "         0.16338132, -0.2446297 ]], dtype=float32)"
      ]
     },
     "execution_count": 8,
     "metadata": {},
     "output_type": "execute_result"
    }
   ],
   "source": [
    "embedding"
   ]
  },
  {
   "cell_type": "markdown",
   "metadata": {},
   "source": [
    "The embedding matrix size is 95 x 16, so that the maximum atomic number (94) in the MP database can find the corresponding row in the embedding matrix. "
   ]
  },
  {
   "cell_type": "markdown",
   "metadata": {},
   "source": [
    "### Construct a new model and set embeddings"
   ]
  },
  {
   "cell_type": "code",
   "execution_count": 9,
   "metadata": {},
   "outputs": [],
   "source": [
    "model = MEGNetModel(100, 2, nvocal=95, embedding_dim=16)"
   ]
  },
  {
   "cell_type": "code",
   "execution_count": 10,
   "metadata": {},
   "outputs": [],
   "source": [
    "# find the embedding layer  index in all the model layers\n",
    "embedding_layer_index = [i for i, j in enumerate(model.layers) if j.name.startswith('atom_embedding')][0]\n",
    "\n",
    "# Set the weights to our previous embedding\n",
    "model.layers[embedding_layer_index].set_weights([embedding])\n",
    "\n",
    "# Freeze the weights\n",
    "model.layers[embedding_layer_index].trainable = False"
   ]
  },
  {
   "cell_type": "code",
   "execution_count": 11,
   "metadata": {},
   "outputs": [
    {
     "data": {
      "text/plain": [
       "1"
      ]
     },
     "execution_count": 11,
     "metadata": {},
     "output_type": "execute_result"
    }
   ],
   "source": [
    "embedding_layer_index"
   ]
  },
  {
   "cell_type": "code",
   "execution_count": 13,
   "metadata": {},
   "outputs": [
    {
     "data": {
      "text/plain": [
       "[<keras.engine.input_layer.InputLayer at 0x7f49d0616730>,\n",
       " <keras.layers.embeddings.Embedding at 0x7f49d0616580>,\n",
       " <keras.engine.input_layer.InputLayer at 0x7f49d0616070>,\n",
       " <keras.engine.input_layer.InputLayer at 0x7f49d061da30>,\n",
       " <keras.layers.core.dense.Dense at 0x7f49d062eb80>,\n",
       " <keras.layers.core.dense.Dense at 0x7f49d05ad9a0>,\n",
       " <keras.layers.core.dense.Dense at 0x7f49d053d7c0>,\n",
       " <keras.layers.core.dense.Dense at 0x7f49d061da60>,\n",
       " <keras.layers.core.dense.Dense at 0x7f49d05348b0>,\n",
       " <keras.layers.core.dense.Dense at 0x7f49d0542dc0>,\n",
       " <keras.engine.input_layer.InputLayer at 0x7f49d0606bb0>,\n",
       " <keras.engine.input_layer.InputLayer at 0x7f49d060fb80>,\n",
       " <keras.engine.input_layer.InputLayer at 0x7f49d060fca0>,\n",
       " <keras.engine.input_layer.InputLayer at 0x7f49d060f1c0>,\n",
       " <megnet.layers.graph.megnet.MEGNetLayer at 0x7f49d062e0d0>,\n",
       " <keras.layers.merge.Add at 0x7f49d0557e50>,\n",
       " <keras.layers.merge.Add at 0x7f49d0542790>,\n",
       " <keras.layers.merge.Add at 0x7f49d051d520>,\n",
       " <keras.layers.core.dense.Dense at 0x7f49d04c3b50>,\n",
       " <keras.layers.core.dense.Dense at 0x7f49d04cd7c0>,\n",
       " <keras.layers.core.dense.Dense at 0x7f49d04e3820>,\n",
       " <keras.layers.core.dense.Dense at 0x7f49d04c7880>,\n",
       " <keras.layers.core.dense.Dense at 0x7f49d04dc6d0>,\n",
       " <keras.layers.core.dense.Dense at 0x7f49d04ebf70>,\n",
       " <megnet.layers.graph.megnet.MEGNetLayer at 0x7f49d04c33a0>,\n",
       " <keras.layers.merge.Add at 0x7f49d048bc10>,\n",
       " <keras.layers.merge.Add at 0x7f49d0444880>,\n",
       " <keras.layers.merge.Add at 0x7f49d044e2e0>,\n",
       " <keras.layers.core.dense.Dense at 0x7f49d03f34f0>,\n",
       " <keras.layers.core.dense.Dense at 0x7f49d03ff8e0>,\n",
       " <keras.layers.core.dense.Dense at 0x7f49d04170d0>,\n",
       " <keras.layers.core.dense.Dense at 0x7f49d03f9340>,\n",
       " <keras.layers.core.dense.Dense at 0x7f49d0410910>,\n",
       " <keras.layers.core.dense.Dense at 0x7f49d04271f0>,\n",
       " <megnet.layers.graph.megnet.MEGNetLayer at 0x7f49d0475df0>,\n",
       " <keras.layers.merge.Add at 0x7f49d03b4910>,\n",
       " <keras.layers.merge.Add at 0x7f49d03b4f40>,\n",
       " <megnet.layers.readout.set2set.Set2Set at 0x7f49d0399c10>,\n",
       " <megnet.layers.readout.set2set.Set2Set at 0x7f49d03adaf0>,\n",
       " <keras.layers.merge.Add at 0x7f49d038c0d0>,\n",
       " <keras.layers.merge.Concatenate at 0x7f4bcc42f4c0>,\n",
       " <keras.layers.core.dense.Dense at 0x7f49d026bbe0>,\n",
       " <keras.layers.core.dense.Dense at 0x7f49d03ff820>,\n",
       " <keras.layers.core.dense.Dense at 0x7f49d033ed90>]"
      ]
     },
     "execution_count": 13,
     "metadata": {},
     "output_type": "execute_result"
    }
   ],
   "source": [
    "model.layers"
   ]
  },
  {
   "cell_type": "markdown",
   "metadata": {},
   "source": [
    "Now that `model` should have the same embeddings as the pre-trained model, and the weights won't change during training."
   ]
  }
 ],
 "metadata": {
  "kernelspec": {
   "display_name": "Python 3",
   "language": "python",
   "name": "python3"
  },
  "language_info": {
   "codemirror_mode": {
    "name": "ipython",
    "version": 3
   },
   "file_extension": ".py",
   "mimetype": "text/x-python",
   "name": "python",
   "nbconvert_exporter": "python",
   "pygments_lexer": "ipython3",
   "version": "3.8.18"
  }
 },
 "nbformat": 4,
 "nbformat_minor": 2
}
