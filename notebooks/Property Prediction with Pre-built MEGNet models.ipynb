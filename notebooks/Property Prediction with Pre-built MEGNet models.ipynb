{
 "cells": [
  {
   "cell_type": "markdown",
   "metadata": {
    "colab": {
     "base_uri": "https://localhost:8080/"
    },
    "id": "RUDLgYFjpgK2",
    "outputId": "8c5b1c1f-edb2-4e2f-92dd-dfb550659eec"
   },
   "source": [
    "# Introduction\n",
    "\n",
    "This notebook is written as part of the hands-on tutorial for the LLNL CCMS Summer Institute Seminar 2022 (https://pls.llnl.gov/careers/internship-programs/computational-chemistry-and-materials-science-summer-institute) given by Prof Shyue Ping Ong."
   ]
  },
  {
   "cell_type": "markdown",
   "metadata": {},
   "source": [
    "If you are running this notebook from Google Colab, uncomment the next code box to install megnet first."
   ]
  },
  {
   "cell_type": "code",
   "execution_count": 1,
   "metadata": {},
   "outputs": [],
   "source": [
    "# !pip install megnet pymatgen==2022.7.24.1"
   ]
  },
  {
   "cell_type": "code",
   "execution_count": 2,
   "metadata": {
    "colab": {
     "base_uri": "https://localhost:8080/"
    },
    "id": "kcBP6XS7phgR",
    "outputId": "854a7e34-2b81-4d17-a41c-7e84bfdbc5fc"
   },
   "outputs": [],
   "source": [
    "from megnet.utils.models import load_model, AVAILABLE_MODELS\n",
    "from pymatgen.core import Structure, Lattice\n",
    "from pymatgen.ext.matproj import MPRester\n",
    "from pymatgen.ext.matproj import MPRestError, TaskType, _MPResterLegacy"
   ]
  },
  {
   "cell_type": "markdown",
   "metadata": {},
   "source": [
    "By default, MEGNet already comes with some ready-to-use models trained on the Materials Project. "
   ]
  },
  {
   "cell_type": "code",
   "execution_count": 3,
   "metadata": {},
   "outputs": [
    {
     "name": "stdout",
     "output_type": "stream",
     "text": [
      "['Eform_MP_2019', 'Eform_MP_2018', 'Efermi_MP_2019', 'Bandgap_classifier_MP_2018', 'Bandgap_MP_2018', 'logK_MP_2018', 'logG_MP_2018', 'logK_MP_2019', 'logG_MP_2019']\n"
     ]
    }
   ],
   "source": [
    "print(AVAILABLE_MODELS)"
   ]
  },
  {
   "cell_type": "markdown",
   "metadata": {},
   "source": [
    "We will first use the MPRester interface to get relaxed structures from the Materials Project (https://materialsproject.org). Here, we deliberately select two very different structures:\n",
    "- bcc Mo, for which MP has already computed the elastic constants (https://materialsproject.org/materials/mp-129).\n",
    "- Li10GeP2S12 (LGPS), a well-known lithium superionic conductor for which MP has not calculated the elastic constants (https://materialsproject.org/materials/mp-696128)."
   ]
  },
  {
   "cell_type": "code",
   "execution_count": 4,
   "metadata": {
    "id": "l7Un9g1LrPuT"
   },
   "outputs": [
    {
     "name": "stderr",
     "output_type": "stream",
     "text": [
      "/root/anaconda3/envs/megnet/lib/python3.8/site-packages/pymatgen/ext/matproj.py:183: UserWarning: You are using the legacy MPRester. This version of the MPRester will no longer be updated. To access the latest data with the new MPRester, obtain a new API key from https://materialsproject.org/api and consult the docs at https://docs.materialsproject.org/ for more information.\n",
      "  warnings.warn(\n"
     ]
    }
   ],
   "source": [
    "# mpr = MPRester()\n",
    "mpr = _MPResterLegacy('iTPrDnB1NuSywGXI')  # legacy style get the mp data\n",
    "\n",
    "# Mo: mp-129\n",
    "# Li10GeP2S12: mp-696128\n",
    "\n",
    "structures = {}\n",
    "structures[\"Mo\"] = mpr.get_structure_by_material_id(\"mp-129\")\n",
    "structures[\"LGPS\"] = mpr.get_structure_by_material_id(\"mp-696128\")"
   ]
  },
  {
   "cell_type": "code",
   "execution_count": 5,
   "metadata": {},
   "outputs": [
    {
     "data": {
      "text/plain": [
       "{'Mo': Structure Summary\n",
       " Lattice\n",
       "     abc : 2.743237657484856 2.743237657484856 2.743237657484856\n",
       "  angles : 109.47122063449069 109.47122063449069 109.47122063449069\n",
       "  volume : 15.891628753050979\n",
       "       A : -1.583809 1.583809 1.583809\n",
       "       B : 1.583809 -1.583809 1.583809\n",
       "       C : 1.583809 1.583809 -1.583809\n",
       "     pbc : True True True\n",
       " PeriodicSite: Mo (0.0000, 0.0000, 0.0000) [0.0000, 0.0000, 0.0000],\n",
       " 'LGPS': Structure Summary\n",
       " Lattice\n",
       "     abc : 8.787646 8.787646 12.657546\n",
       "  angles : 90.0 90.0 90.0\n",
       "  volume : 977.4501587615295\n",
       "       A : 8.787646 0.0 0.0\n",
       "       B : 0.0 8.787646 0.0\n",
       "       C : 0.0 0.0 12.657546\n",
       "     pbc : True True True\n",
       " PeriodicSite: Li (2.0097, 2.3986, 3.7284) [0.2287, 0.2730, 0.2946]\n",
       " PeriodicSite: Li (6.7779, 6.3891, 3.7284) [0.7713, 0.7270, 0.2946]\n",
       " PeriodicSite: Li (2.3986, 6.7779, 10.0572) [0.2730, 0.7713, 0.7946]\n",
       " PeriodicSite: Li (6.3891, 2.0097, 10.0572) [0.7270, 0.2287, 0.7946]\n",
       " PeriodicSite: Li (2.0097, 6.3891, 3.7284) [0.2287, 0.7270, 0.2946]\n",
       " PeriodicSite: Li (6.7779, 2.3986, 3.7284) [0.7713, 0.2730, 0.2946]\n",
       " PeriodicSite: Li (2.3986, 2.0097, 10.0572) [0.2730, 0.2287, 0.7946]\n",
       " PeriodicSite: Li (6.3891, 6.7779, 10.0572) [0.7270, 0.7713, 0.7946]\n",
       " PeriodicSite: Li (0.0000, 0.0000, 11.8947) [0.0000, 0.0000, 0.9397]\n",
       " PeriodicSite: Li (0.0000, 0.0000, 5.5659) [0.0000, 0.0000, 0.4397]\n",
       " PeriodicSite: Li (4.3938, 4.3938, 6.9366) [0.5000, 0.5000, 0.5480]\n",
       " PeriodicSite: Li (4.3938, 4.3938, 0.6078) [0.5000, 0.5000, 0.0480]\n",
       " PeriodicSite: Li (2.2524, 6.3690, 0.4641) [0.2563, 0.7248, 0.0367]\n",
       " PeriodicSite: Li (6.5352, 2.4186, 0.4641) [0.7437, 0.2752, 0.0367]\n",
       " PeriodicSite: Li (2.4186, 2.2524, 6.7928) [0.2752, 0.2563, 0.5367]\n",
       " PeriodicSite: Li (6.3690, 6.5352, 6.7928) [0.7248, 0.7437, 0.5367]\n",
       " PeriodicSite: Li (2.4186, 6.5352, 6.7928) [0.2752, 0.7437, 0.5367]\n",
       " PeriodicSite: Li (6.3690, 2.2524, 6.7928) [0.7248, 0.2563, 0.5367]\n",
       " PeriodicSite: Li (2.2524, 2.4186, 0.4641) [0.2563, 0.2752, 0.0367]\n",
       " PeriodicSite: Li (6.5352, 6.3690, 0.4641) [0.7437, 0.7248, 0.0367]\n",
       " PeriodicSite: Ge (4.3938, 4.3938, 10.1390) [0.5000, 0.5000, 0.8010]\n",
       " PeriodicSite: Ge (4.3938, 4.3938, 3.8103) [0.5000, 0.5000, 0.3010]\n",
       " PeriodicSite: P (0.0000, 0.0000, 8.6837) [0.0000, 0.0000, 0.6861]\n",
       " PeriodicSite: P (0.0000, 0.0000, 2.3549) [0.0000, 0.0000, 0.1861]\n",
       " PeriodicSite: P (0.0000, 4.3938, 6.3803) [0.0000, 0.5000, 0.5041]\n",
       " PeriodicSite: P (4.3938, 0.0000, 0.0516) [0.5000, 0.0000, 0.0041]\n",
       " PeriodicSite: S (0.0000, 6.1024, 5.2158) [0.0000, 0.6944, 0.4121]\n",
       " PeriodicSite: S (0.0000, 2.6852, 5.2158) [0.0000, 0.3056, 0.4121]\n",
       " PeriodicSite: S (2.6852, 0.0000, 11.5446) [0.3056, 0.0000, 0.9121]\n",
       " PeriodicSite: S (6.1024, 0.0000, 11.5446) [0.6944, 0.0000, 0.9121]\n",
       " PeriodicSite: S (4.3938, 1.6683, 1.2285) [0.5000, 0.1898, 0.0971]\n",
       " PeriodicSite: S (4.3938, 7.1193, 1.2285) [0.5000, 0.8102, 0.0971]\n",
       " PeriodicSite: S (1.6683, 4.3938, 7.5573) [0.1898, 0.5000, 0.5971]\n",
       " PeriodicSite: S (7.1193, 4.3938, 7.5573) [0.8102, 0.5000, 0.5971]\n",
       " PeriodicSite: S (0.0000, 7.0715, 1.1910) [0.0000, 0.8047, 0.0941]\n",
       " PeriodicSite: S (0.0000, 1.7162, 1.1910) [0.0000, 0.1953, 0.0941]\n",
       " PeriodicSite: S (1.7162, 0.0000, 7.5198) [0.1953, 0.0000, 0.5941]\n",
       " PeriodicSite: S (7.0715, 0.0000, 7.5198) [0.8047, 0.0000, 0.5941]\n",
       " PeriodicSite: S (4.3938, 2.5484, 5.1041) [0.5000, 0.2900, 0.4032]\n",
       " PeriodicSite: S (4.3938, 6.2392, 5.1041) [0.5000, 0.7100, 0.4032]\n",
       " PeriodicSite: S (2.5484, 4.3938, 11.4328) [0.2900, 0.5000, 0.9032]\n",
       " PeriodicSite: S (6.2392, 4.3938, 11.4328) [0.7100, 0.5000, 0.9032]\n",
       " PeriodicSite: S (0.0000, 1.6868, 9.8358) [0.0000, 0.1920, 0.7771]\n",
       " PeriodicSite: S (0.0000, 7.1009, 9.8358) [0.0000, 0.8081, 0.7771]\n",
       " PeriodicSite: S (7.1009, 0.0000, 3.5070) [0.8081, 0.0000, 0.2771]\n",
       " PeriodicSite: S (1.6868, 0.0000, 3.5070) [0.1920, 0.0000, 0.2771]\n",
       " PeriodicSite: S (4.3938, 6.2162, 8.8371) [0.5000, 0.7074, 0.6982]\n",
       " PeriodicSite: S (4.3938, 2.5715, 8.8371) [0.5000, 0.2926, 0.6982]\n",
       " PeriodicSite: S (6.2162, 4.3938, 2.5083) [0.7074, 0.5000, 0.1982]\n",
       " PeriodicSite: S (2.5715, 4.3938, 2.5083) [0.2926, 0.5000, 0.1982]}"
      ]
     },
     "execution_count": 5,
     "metadata": {},
     "output_type": "execute_result"
    }
   ],
   "source": [
    "structures"
   ]
  },
  {
   "cell_type": "code",
   "execution_count": 6,
   "metadata": {
    "colab": {
     "base_uri": "https://localhost:8080/"
    },
    "id": "rRPndHDArtdl",
    "outputId": "aa6c40ba-7e6c-4405-d831-1d218af7791f"
   },
   "outputs": [
    {
     "name": "stderr",
     "output_type": "stream",
     "text": [
      "2024-01-22 19:51:44.631963: I tensorflow/stream_executor/cuda/cuda_gpu_executor.cc:936] successful NUMA node read from SysFS had negative value (-1), but there must be at least one NUMA node, so returning NUMA node zero\n",
      "2024-01-22 19:51:44.645630: I tensorflow/stream_executor/cuda/cuda_gpu_executor.cc:936] successful NUMA node read from SysFS had negative value (-1), but there must be at least one NUMA node, so returning NUMA node zero\n",
      "2024-01-22 19:51:44.645719: I tensorflow/stream_executor/cuda/cuda_gpu_executor.cc:936] successful NUMA node read from SysFS had negative value (-1), but there must be at least one NUMA node, so returning NUMA node zero\n",
      "2024-01-22 19:51:44.646179: I tensorflow/core/platform/cpu_feature_guard.cc:151] This TensorFlow binary is optimized with oneAPI Deep Neural Network Library (oneDNN) to use the following CPU instructions in performance-critical operations:  AVX2 FMA\n",
      "To enable them in other operations, rebuild TensorFlow with the appropriate compiler flags.\n",
      "2024-01-22 19:51:44.646725: I tensorflow/stream_executor/cuda/cuda_gpu_executor.cc:936] successful NUMA node read from SysFS had negative value (-1), but there must be at least one NUMA node, so returning NUMA node zero\n",
      "2024-01-22 19:51:44.646793: I tensorflow/stream_executor/cuda/cuda_gpu_executor.cc:936] successful NUMA node read from SysFS had negative value (-1), but there must be at least one NUMA node, so returning NUMA node zero\n",
      "2024-01-22 19:51:44.646835: I tensorflow/stream_executor/cuda/cuda_gpu_executor.cc:936] successful NUMA node read from SysFS had negative value (-1), but there must be at least one NUMA node, so returning NUMA node zero\n",
      "2024-01-22 19:51:44.679766: I tensorflow/stream_executor/cuda/cuda_gpu_executor.cc:936] successful NUMA node read from SysFS had negative value (-1), but there must be at least one NUMA node, so returning NUMA node zero\n",
      "2024-01-22 19:51:44.679851: I tensorflow/stream_executor/cuda/cuda_gpu_executor.cc:936] successful NUMA node read from SysFS had negative value (-1), but there must be at least one NUMA node, so returning NUMA node zero\n",
      "2024-01-22 19:51:44.679903: I tensorflow/stream_executor/cuda/cuda_gpu_executor.cc:936] successful NUMA node read from SysFS had negative value (-1), but there must be at least one NUMA node, so returning NUMA node zero\n",
      "2024-01-22 19:51:44.679951: I tensorflow/core/common_runtime/gpu/gpu_device.cc:1525] Created device /job:localhost/replica:0/task:0/device:GPU:0 with 1075 MB memory:  -> device: 0, name: NVIDIA GeForce RTX 4090, pci bus id: 0000:01:00.0, compute capability: 8.9\n",
      "2024-01-22 19:51:46.496355: I tensorflow/stream_executor/cuda/cuda_blas.cc:1786] TensorFloat-32 will be used for the matrix multiplication. This will only be logged once.\n"
     ]
    },
    {
     "name": "stdout",
     "output_type": "stream",
     "text": [
      "The predicted Eform for Mo is -0.003 eV/atom.\n",
      "The predicted Eform for LGPS is -1.278 eV/atom.\n",
      "The predicted Efermi for Mo is 8.401 eV.\n",
      "The predicted Efermi for LGPS is 1.468 eV.\n",
      "WARNING:tensorflow:5 out of the last 5 calls to <function Model.make_predict_function.<locals>.predict_function at 0x7fb4ac75aca0> triggered tf.function retracing. Tracing is expensive and the excessive number of tracings could be due to (1) creating @tf.function repeatedly in a loop, (2) passing tensors with different shapes, (3) passing Python objects instead of tensors. For (1), please define your @tf.function outside of the loop. For (2), @tf.function has experimental_relax_shapes=True option that relaxes argument shapes that can avoid unnecessary retracing. For (3), please refer to https://www.tensorflow.org/guide/function#controlling_retracing and https://www.tensorflow.org/api_docs/python/tf/function for  more details.\n",
      "The predicted K for Mo is 268.447 10(GPa).\n",
      "WARNING:tensorflow:6 out of the last 6 calls to <function Model.make_predict_function.<locals>.predict_function at 0x7fb4ac75aca0> triggered tf.function retracing. Tracing is expensive and the excessive number of tracings could be due to (1) creating @tf.function repeatedly in a loop, (2) passing tensors with different shapes, (3) passing Python objects instead of tensors. For (1), please define your @tf.function outside of the loop. For (2), @tf.function has experimental_relax_shapes=True option that relaxes argument shapes that can avoid unnecessary retracing. For (3), please refer to https://www.tensorflow.org/guide/function#controlling_retracing and https://www.tensorflow.org/api_docs/python/tf/function for  more details.\n",
      "The predicted K for LGPS is 23.275 10(GPa).\n",
      "The predicted G for Mo is 74.273 10(GPa).\n",
      "The predicted G for LGPS is 9.736 10(GPa).\n"
     ]
    }
   ],
   "source": [
    "for model_name in AVAILABLE_MODELS:\n",
    "    if model_name.endswith(\"_2019\"):\n",
    "        model = load_model(model_name)\n",
    "        model.metadata\n",
    "        for name, structure in structures.items():\n",
    "            if model_name.startswith(\"log\"):\n",
    "                prediction = 10 ** model.predict_structure(structure).ravel()[0]\n",
    "            else:\n",
    "                prediction = model.predict_structure(structure).ravel()[0]\n",
    "            prop_name = model_name.split(\"_\")[0].replace(\"log\", \"\")\n",
    "            print(f'The predicted {prop_name} for {name} is {prediction:.3f} {model.metadata[\"unit\"].replace(\"log\", \"\")}.')"
   ]
  },
  {
   "cell_type": "markdown",
   "metadata": {},
   "source": [
    "We may make the following observations:\n",
    "- The formation energy of Mo is correctly predicted to be close to 0 (elemental reference state).\n",
    "- The K of Mo is predicted to be 268 GPa, quite close to the MP value of 262 GPa. Note that this is not surprising as Mo is part of the training data for the MEGNet model to begin with. \n",
    "- In the paper \"Elastic Properties of Alkali Superionic Conductor Electrolytes from First Principles Calculations\" by Deng et al. [DOI: 10.1149/2.0061602jes](http://dx.doi.org/10.1149/2.0061602jes), the Materials Virtual Lab calculated the bulk modulus of LGPS to be 27.3 GPa and the shear modulus to be 7.9 GPa. This is in very good agreement with the predictions, even though it they are not in the original dataset."
   ]
  },
  {
   "cell_type": "code",
   "execution_count": null,
   "metadata": {},
   "outputs": [],
   "source": []
  }
 ],
 "metadata": {
  "colab": {
   "collapsed_sections": [],
   "name": "MEGNet demo.ipynb",
   "provenance": []
  },
  "kernelspec": {
   "display_name": "Python 3 (ipykernel)",
   "language": "python",
   "name": "python3"
  },
  "language_info": {
   "codemirror_mode": {
    "name": "ipython",
    "version": 3
   },
   "file_extension": ".py",
   "mimetype": "text/x-python",
   "name": "python",
   "nbconvert_exporter": "python",
   "pygments_lexer": "ipython3",
   "version": "3.8.18"
  }
 },
 "nbformat": 4,
 "nbformat_minor": 1
}
